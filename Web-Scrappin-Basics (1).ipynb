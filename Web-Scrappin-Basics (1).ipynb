{
 "cells": [
  {
   "cell_type": "code",
   "execution_count": 3,
   "id": "611b9c6c",
   "metadata": {},
   "outputs": [],
   "source": [
    "import pandas as pd\n",
    "import requests\n",
    "from bs4 import BeautifulSoup"
   ]
  },
  {
   "cell_type": "code",
   "execution_count": 4,
   "id": "ebe9cfbe",
   "metadata": {},
   "outputs": [],
   "source": [
    "# headers={'User-Agent':'Mozilla/5.0 (Windows NT 6.3; Win 64 ; x64) Apple WeKit /537.36(KHTML , like Gecko) Chrome/80.0.3987.162 Safari/537.36'}\n",
    "# webpage = requests.get('https://www.ambitionbox.com/list-of-companies?campaign=desktop_nav',headers=headers).text"
   ]
  },
  {
   "cell_type": "code",
   "execution_count": 5,
   "id": "b9c3d226",
   "metadata": {},
   "outputs": [],
   "source": [
    "# soup = BeautifulSoup(webpage,'lxml')"
   ]
  },
  {
   "cell_type": "code",
   "execution_count": 6,
   "id": "c3cca4aa",
   "metadata": {},
   "outputs": [],
   "source": [
    "# print(soup.pretiffy())"
   ]
  },
  {
   "cell_type": "code",
   "execution_count": 7,
   "id": "be63400e",
   "metadata": {},
   "outputs": [],
   "source": [
    "# soup.find_all('h1')[0].text"
   ]
  },
  {
   "cell_type": "code",
   "execution_count": 8,
   "id": "641f6e57",
   "metadata": {},
   "outputs": [],
   "source": [
    "# len(soup.find_all('h2'))"
   ]
  },
  {
   "cell_type": "code",
   "execution_count": 9,
   "id": "f75d9e3c",
   "metadata": {},
   "outputs": [
    {
     "ename": "IndentationError",
     "evalue": "unexpected indent (3963759571.py, line 2)",
     "output_type": "error",
     "traceback": [
      "\u001b[1;36m  Cell \u001b[1;32mIn[9], line 2\u001b[1;36m\u001b[0m\n\u001b[1;33m    print(i.text.strip())\u001b[0m\n\u001b[1;37m    ^\u001b[0m\n\u001b[1;31mIndentationError\u001b[0m\u001b[1;31m:\u001b[0m unexpected indent\n"
     ]
    }
   ],
   "source": [
    "# for i in soup.find_all('h2'):\n",
    "#     print(i.text.strip())"
   ]
  },
  {
   "cell_type": "code",
   "execution_count": null,
   "id": "db6ef8bf",
   "metadata": {},
   "outputs": [],
   "source": [
    "# soup.find_all('p', class_='companyCardWrapper')"
   ]
  },
  {
   "cell_type": "code",
   "execution_count": null,
   "id": "f23fb078",
   "metadata": {},
   "outputs": [],
   "source": [
    "# Here we are directly first fetching the main content wrapper and then after with the use of it we are scarapping the other data\n",
    "# company = soup.find_all('div', class_='companyCardWrapper')"
   ]
  },
  {
   "cell_type": "code",
   "execution_count": null,
   "id": "713fdfe6",
   "metadata": {},
   "outputs": [],
   "source": [
    "# name = []\n",
    "# reviews = []\n",
    "# ratings = []\n",
    "\n",
    "# for i in company:\n",
    "    \n",
    "#     name.append(i.find('h2').text.strip())\n",
    "#     reviews.append(i.find('p',class_='rating').text.strip())\n",
    "#     ratings.append(i.find('a',class_='reviews-count').text.strip())"
   ]
  },
  {
   "cell_type": "code",
   "execution_count": null,
   "id": "3ff58716",
   "metadata": {},
   "outputs": [],
   "source": [
    "# company[0].find_all('p',class_='')"
   ]
  },
  {
   "cell_type": "code",
   "execution_count": 16,
   "id": "aa8bb911",
   "metadata": {},
   "outputs": [],
   "source": [
    "headers={'User-Agent':'Mozilla/5.0 (Windows NT 6.3; Win 64 ; x64) Apple WeKit /537.36(KHTML , like Gecko) Chrome/80.0.3987.162 Safari/537.36'}\n",
    "webpage = requests.get('http://ssgec.ac.in/FacultyDetails.php?did=8',headers=headers).text"
   ]
  },
  {
   "cell_type": "code",
   "execution_count": 23,
   "id": "3a0bd4fc",
   "metadata": {},
   "outputs": [],
   "source": [
    "soup=BeautifulSoup(webpage,'lxml')"
   ]
  },
  {
   "cell_type": "code",
   "execution_count": 24,
   "id": "51c04ca9",
   "metadata": {},
   "outputs": [],
   "source": [
    "# print(soup.pretiffy())"
   ]
  },
  {
   "cell_type": "code",
   "execution_count": 28,
   "id": "1f51b70b",
   "metadata": {},
   "outputs": [],
   "source": [
    "faculty = soup.find_all('div',class_='col-lg-8')"
   ]
  },
  {
   "cell_type": "code",
   "execution_count": 31,
   "id": "ea1af7b2",
   "metadata": {},
   "outputs": [
    {
     "data": {
      "text/plain": [
       "<section class=\"section\" id=\"subscribe\">\n",
       "<div class=\"container\">\n",
       "<div class=\"row\" style=\"height: 20px;\">\n",
       "<div class=\"col-lg-8 offset-lg-2\">\n",
       "<div class=\"section-heading\">\n",
       "<h2>Faculty Details</h2>\n",
       "</div>\n",
       "<!--<div class=\"subscribe-content\">\n",
       "                            <p>Infrastructure details of SSEC</p>                        \n",
       "                        </div>-->\n",
       "</div>\n",
       "</div>\n",
       "</div>\n",
       "</section>"
      ]
     },
     "execution_count": 31,
     "metadata": {},
     "output_type": "execute_result"
    }
   ],
   "source": [
    "soup.find('section',class_='section')"
   ]
  },
  {
   "cell_type": "code",
   "execution_count": 34,
   "id": "b7fddad1",
   "metadata": {},
   "outputs": [
    {
     "data": {
      "text/plain": [
       "'\\nFaculty Details\\n'"
      ]
     },
     "execution_count": 34,
     "metadata": {},
     "output_type": "execute_result"
    }
   ],
   "source": [
    "soup.find('div',class_='section-heading').text"
   ]
  },
  {
   "cell_type": "code",
   "execution_count": 42,
   "id": "897dde0d",
   "metadata": {},
   "outputs": [],
   "source": [
    "faculty_name = []\n",
    "\n",
    "for i in soup.find_all('h6'):\n",
    "    faculty_name.append(i.text.strip())\n"
   ]
  },
  {
   "cell_type": "code",
   "execution_count": 43,
   "id": "5c6eddb3",
   "metadata": {},
   "outputs": [
    {
     "data": {
      "text/plain": [
       "['Prof. N. S. Sanghani',\n",
       " 'Prof. (Dr.) D. B. Vaghela',\n",
       " 'Prof. S. S. Chauhan',\n",
       " 'Dr. B. K. Borisaniya',\n",
       " 'Prof. S. J. Agravat',\n",
       " 'Prof. H. H. Maheta',\n",
       " 'Prof. K. V. Patel',\n",
       " 'Prof. P. M. Chauhan',\n",
       " 'Prof. C. H. Makwana',\n",
       " 'Prof. N. B. Nayak',\n",
       " 'Prof. D. D. Modi',\n",
       " 'Prof. A. D. Meniya',\n",
       " 'Prof. V. D. Parmar',\n",
       " 'Prof. D. D. Sanghani']"
      ]
     },
     "execution_count": 43,
     "metadata": {},
     "output_type": "execute_result"
    }
   ],
   "source": [
    "faculty_name"
   ]
  },
  {
   "cell_type": "code",
   "execution_count": 50,
   "id": "c88fdff3",
   "metadata": {},
   "outputs": [
    {
     "name": "stdout",
     "output_type": "stream",
     "text": [
      "Faculty Details\n",
      "Prof. N. S. SanghaniDesignation : Assistant ProfessorQualification : M.E.Specialization : Cloud Computing, Internet of Things (IoT), BlockchainExperience : 14 YearsMore Details >>\n",
      "Prof. (Dr.) D. B. VaghelaDesignation : Assistant ProfessorQualification : Ph.D.Specialization : Big Data, Cloud Computing, Machine Learning, Data Science, Algorithm Analysis & DesignExperience : 19 YearsMore Details >>\n",
      "Prof. S. S. ChauhanDesignation : Assistant ProfessorQualification : M.Tech.Specialization : Distributed and High Performance Computing, Cloud Computing, Network and information Security, Big DataExperience : 15 YearsMore Details >>\n",
      "Dr. B. K. BorisaniyaDesignation : Assistant ProfessorQualification : Ph.D.Specialization : Cloud Computing, Virtualization, Network Security, Machine LearningExperience : 11 YearsMore Details >>\n",
      "Prof. S. J. AgravatDesignation : Assistant ProfessorQualification : M.E.Specialization : Image ProcessingExperience : 17 YearsMore Details >>\n",
      "Prof. H. H. MahetaDesignation : Assistant ProfessorQualification : M.Tech.Specialization : Computer Vision, Soft Computing, Artificial Intelligence, Database Management System, Operating SystemExperience : 14 YearsMore Details >>\n",
      "Prof. K. V. PatelDesignation : Assistant ProfessorQualification : M.E.Specialization : Cloud Computing, Operating System, Compiler DesignExperience : 11 YearsMore Details >>\n",
      "Prof. P. M. ChauhanDesignation : Assistant ProfessorQualification : M.Tech. Specialization : Image Processing, Machine Learning, Data MiningExperience : 10 YearsMore Details >>\n",
      "Prof. C. H. MakwanaDesignation : Assistant ProfessorQualification : M. E.Specialization : Data Mining, Algorithm, System ProgrammingExperience : 8 YearsMore Details >>\n",
      "Prof. N. B. NayakDesignation : Assistant ProfessorQualification : M. Tech.Specialization : Database Management System, Cloud Computing, Big DataExperience : 6 YearsMore Details >>\n",
      "Prof. D. D. ModiDesignation : Assistant ProfessorQualification : M.Tech.Specialization : Video Streaming, Computer Networks, Object Oriented ProgrammingExperience : 5 YearsMore Details >>\n",
      "Prof. A. D. MeniyaDesignation : Assistant ProfessorQualification : M.E.Specialization : Cloud Computing, Security, Advance Web TechnologyExperience : 11 YearsMore Details >>\n",
      "Prof. V. D. ParmarDesignation : Assistant ProfessorQualification : M.E.Specialization : Machine Learning, AIExperience : 11 YearsMore Details >>\n",
      "Prof. D. D. SanghaniDesignation : Assistant ProfessorQualification : M.E.Specialization : Image ProcessingExperience : 10 YearsMore Details >>\n"
     ]
    }
   ],
   "source": [
    "for i in soup.find_all('div',class_='section-heading'):\n",
    "    print(i.text.strip())\n",
    "    "
   ]
  },
  {
   "cell_type": "code",
   "execution_count": 52,
   "id": "319ada69",
   "metadata": {},
   "outputs": [
    {
     "data": {
      "text/plain": [
       "[]"
      ]
     },
     "execution_count": 52,
     "metadata": {},
     "output_type": "execute_result"
    }
   ],
   "source": [
    "soup.find_all('#text',class_='section-heading')"
   ]
  },
  {
   "cell_type": "code",
   "execution_count": 53,
   "id": "938e106a",
   "metadata": {},
   "outputs": [],
   "source": [
    "d = {'name':faculty_name}"
   ]
  },
  {
   "cell_type": "code",
   "execution_count": 54,
   "id": "826b8925",
   "metadata": {},
   "outputs": [
    {
     "data": {
      "text/html": [
       "<div>\n",
       "<style scoped>\n",
       "    .dataframe tbody tr th:only-of-type {\n",
       "        vertical-align: middle;\n",
       "    }\n",
       "\n",
       "    .dataframe tbody tr th {\n",
       "        vertical-align: top;\n",
       "    }\n",
       "\n",
       "    .dataframe thead th {\n",
       "        text-align: right;\n",
       "    }\n",
       "</style>\n",
       "<table border=\"1\" class=\"dataframe\">\n",
       "  <thead>\n",
       "    <tr style=\"text-align: right;\">\n",
       "      <th></th>\n",
       "      <th>name</th>\n",
       "    </tr>\n",
       "  </thead>\n",
       "  <tbody>\n",
       "    <tr>\n",
       "      <th>0</th>\n",
       "      <td>Prof. N. S. Sanghani</td>\n",
       "    </tr>\n",
       "    <tr>\n",
       "      <th>1</th>\n",
       "      <td>Prof. (Dr.) D. B. Vaghela</td>\n",
       "    </tr>\n",
       "    <tr>\n",
       "      <th>2</th>\n",
       "      <td>Prof. S. S. Chauhan</td>\n",
       "    </tr>\n",
       "    <tr>\n",
       "      <th>3</th>\n",
       "      <td>Dr. B. K. Borisaniya</td>\n",
       "    </tr>\n",
       "    <tr>\n",
       "      <th>4</th>\n",
       "      <td>Prof. S. J. Agravat</td>\n",
       "    </tr>\n",
       "    <tr>\n",
       "      <th>5</th>\n",
       "      <td>Prof. H. H. Maheta</td>\n",
       "    </tr>\n",
       "    <tr>\n",
       "      <th>6</th>\n",
       "      <td>Prof. K. V. Patel</td>\n",
       "    </tr>\n",
       "    <tr>\n",
       "      <th>7</th>\n",
       "      <td>Prof. P. M. Chauhan</td>\n",
       "    </tr>\n",
       "    <tr>\n",
       "      <th>8</th>\n",
       "      <td>Prof. C. H. Makwana</td>\n",
       "    </tr>\n",
       "    <tr>\n",
       "      <th>9</th>\n",
       "      <td>Prof. N. B. Nayak</td>\n",
       "    </tr>\n",
       "    <tr>\n",
       "      <th>10</th>\n",
       "      <td>Prof. D. D. Modi</td>\n",
       "    </tr>\n",
       "    <tr>\n",
       "      <th>11</th>\n",
       "      <td>Prof. A. D. Meniya</td>\n",
       "    </tr>\n",
       "    <tr>\n",
       "      <th>12</th>\n",
       "      <td>Prof. V. D. Parmar</td>\n",
       "    </tr>\n",
       "    <tr>\n",
       "      <th>13</th>\n",
       "      <td>Prof. D. D. Sanghani</td>\n",
       "    </tr>\n",
       "  </tbody>\n",
       "</table>\n",
       "</div>"
      ],
      "text/plain": [
       "                         name\n",
       "0        Prof. N. S. Sanghani\n",
       "1   Prof. (Dr.) D. B. Vaghela\n",
       "2         Prof. S. S. Chauhan\n",
       "3        Dr. B. K. Borisaniya\n",
       "4         Prof. S. J. Agravat\n",
       "5          Prof. H. H. Maheta\n",
       "6           Prof. K. V. Patel\n",
       "7         Prof. P. M. Chauhan\n",
       "8         Prof. C. H. Makwana\n",
       "9           Prof. N. B. Nayak\n",
       "10           Prof. D. D. Modi\n",
       "11         Prof. A. D. Meniya\n",
       "12         Prof. V. D. Parmar\n",
       "13       Prof. D. D. Sanghani"
      ]
     },
     "execution_count": 54,
     "metadata": {},
     "output_type": "execute_result"
    }
   ],
   "source": [
    "pd.DataFrame(d) # ypu can also add data as per you requirement after fetching the data"
   ]
  },
  {
   "cell_type": "code",
   "execution_count": null,
   "id": "e90f306d",
   "metadata": {},
   "outputs": [],
   "source": []
  }
 ],
 "metadata": {
  "kernelspec": {
   "display_name": "Python 3 (ipykernel)",
   "language": "python",
   "name": "python3"
  },
  "language_info": {
   "codemirror_mode": {
    "name": "ipython",
    "version": 3
   },
   "file_extension": ".py",
   "mimetype": "text/x-python",
   "name": "python",
   "nbconvert_exporter": "python",
   "pygments_lexer": "ipython3",
   "version": "3.11.4"
  }
 },
 "nbformat": 4,
 "nbformat_minor": 5
}
